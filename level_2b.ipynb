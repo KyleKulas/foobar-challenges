{
 "cells": [
  {
   "cell_type": "markdown",
   "id": "25f119f5",
   "metadata": {},
   "source": [
    "# Problem \n",
    "\n",
    "As Commander Lambda's personal assistant, you've been assigned the task of configuring the LAMBCHOP doomsday device's axial orientation gears. It should be pretty simple - just add gears to create the appropriate rotation ratio. But the problem is, due to the layout of the LAMBCHOP and the complicated system of beams and pipes supporting it, the pegs that will support the gears are fixed in place.\n",
    "\n",
    "The LAMBCHOP's engineers have given you lists identifying the placement of groups of pegs along various support beams. You need to place a gear on each peg (otherwise the gears will collide with unoccupied pegs). The engineers have plenty of gears in all different sizes stocked up, so you can choose gears of any size, from a radius of 1 on up. Your goal is to build a system where the last gear rotates at twice the rate (in revolutions per minute, or rpm) of the first gear, no matter the direction. Each gear (except the last) touches and turns the gear on the next peg to the right.\n",
    "\n",
    "Given a list of distinct positive integers named pegs representing the location of each peg along the support beam, write a function answer(pegs) which, if there is a solution, returns a list of two positive integers a and b representing the numerator and denominator of the first gear's radius in its simplest form in order to achieve the goal above, such that radius = a/b. The ratio a/b should be greater than or equal to 1. Not all support configurations will necessarily be capable of creating the proper rotation ratio, so if the task is impossible, the function answer(pegs) should return the list [-1, -1].\n",
    "\n",
    "For example, if the pegs are placed at [4, 30, 50], then the first gear could have a radius of 12, the second gear could have a radius of 14, and the last one a radius of 6. Thus, the last gear would rotate twice as fast as the first one. In this case, pegs would be [4, 30, 50] and answer(pegs) should return [12, 1].\n",
    "\n",
    "The list pegs will be given sorted in ascending order and will contain at least 2 and no more than 20 distinct positive integers, all between 1 and 10000 inclusive.\n",
    "\n",
    "Inputs:\n",
    "solution([4, 30, 50])  \n",
    "Output:\n",
    "[12, 1]\n",
    "\n",
    "Inputs:\n",
    "solution([4, 17, 50])  \n",
    "Output:\n",
    "[-1, -1]"
   ]
  },
  {
   "cell_type": "markdown",
   "id": "6b44fdae",
   "metadata": {},
   "source": [
    "# Strategy\n",
    "\n",
    "Case with 2 gears:\n",
    "Radius of the first circle can be calculated by setting the gear ratio to 2:\n",
    "    Ra/Rb = 2 where Ra is radius of first circle and Rb is radius of second circle\n",
    "    Ra = 2 Rb\n",
    "    \n",
    "Given pegs:    \n",
    "    Rb = pegs[B] - pegs[A] - Ra\n",
    "Therefore:    \n",
    "    Ra = 2 Rb\n",
    "    Ra = 2 (pegs[1] - pegs[0] - Ra)\n",
    "    Ra = 2/3 * (pegs[1] - pegs[0])\n",
    "    \n",
    "Case with 3 gears:\n",
    "    Rc = peg[2] - peg[1] - Rb\n",
    "    Rb = peg[1] - peg[0] - Ra\n",
    "    Rc = peg[2] - peg[1] - (peg[1] - peg[0] - Ra)\n",
    "    Rc = peg[2] - 2peg[1] + peg[0] + Ra \n",
    "    \n",
    "    Ra = 2 Rc\n",
    "    Ra = 2 (peg[2] - 2peg[1] + peg[0] + Ra)  \n",
    "    Ra = 2 (peg[2] - 2peg[1] + peg[0]) + 2Ra\n",
    "    Ra = -2 * (pegs[2] - 2 * pegs[1] + pegs[0])\n",
    "Case with 4 gears:\n",
    "    Ra = 2/3 * (pegs[3] - 2 * pegs[2] + 2 * pegs[1] - pegs[0])\n",
    "Case with 5 gears:\n",
    "    Ra = -2 * (pegs[4] - 2 * pegs[3] + 2 * pegs[2] - 2 * pegs[1] + pegs[0]) \n",
    "Case with 6 gears:\n",
    "    Ra = 2/3 * (pegs[5] - 2pegs[4] + 2 * pegs[3] - 2 * pegs[2] + 2 * pegs[1] - pegs[0])\n",
    "...\n",
    "\n",
    "\n",
    "Follow the pattern depending on the number of pegs being even or odd"
   ]
  },
  {
   "cell_type": "markdown",
   "id": "573dace5",
   "metadata": {},
   "source": [
    "# Submitted Solution"
   ]
  },
  {
   "cell_type": "code",
   "execution_count": 55,
   "id": "e118c339-20f7-470e-a6b2-a3be53a53913",
   "metadata": {},
   "outputs": [],
   "source": [
    "def solution(pegs):\n",
    "    \"\"\"\n",
    "    Input: sorted list of peg locations ex: [4, 30, 50]. (2 - 20 peg locations possible)\n",
    "    Return: tuple (a,b) where a/b equals the radius of the first gear so as the last gear spins\n",
    "            at twice the speed of the the first. \n",
    "    \n",
    "    \"\"\"\n",
    "    \n",
    "\n",
    "    \n",
    "    # helper function to reduce final answer to simplest form\n",
    "    def reduce(result):\n",
    "        if result[0] % 3 == 0 and result[1] % 3 ==0:\n",
    "            return[result[0]/3, 1]\n",
    "        else:\n",
    "            return result\n",
    "        \n",
    "    # verify the result by checing that each gear is not larger than the the next gears location\n",
    "    def verify_result(result):\n",
    "        rad = result[0] / result[1]\n",
    "        for x in range(len(pegs) -1):\n",
    "            if pegs[x] + rad < pegs[x + 1]:\n",
    "                rad = pegs[x+1] - (pegs[x] + rad)\n",
    "            else:\n",
    "                return [-1, -1]\n",
    "        \n",
    "        # verify result is < 1\n",
    "        if result[0] / result[1] > 1 :\n",
    "            return result\n",
    "        else:\n",
    "            return [-1, -1]\n",
    "        \n",
    "    \n",
    "    # len of pegs is even, use this formula:\n",
    "    if len(pegs) % 2 == 0:\n",
    "        temp_sum = pegs[-1] - pegs[0]\n",
    "        for i, peg in enumerate(pegs[1:-1]):\n",
    "            if i % 2 == 0:\n",
    "                temp_sum += 2 * peg\n",
    "            else:\n",
    "                temp_sum -= 2 * peg\n",
    "        result = [2 * temp_sum, 3] # result[0] =numerator , result[1] = denominator\n",
    "    \n",
    "    # len of pegs is odd, use this formula:\n",
    "    else:\n",
    "        temp_sum = pegs[-1] + pegs[0]\n",
    "        for i, peg in enumerate(pegs[1:-1]):\n",
    "            if i % 2 == 0:\n",
    "                temp_sum -= 2 * peg\n",
    "            else: \n",
    "                temp_sum += 2 * peg\n",
    "        result = [-2 * temp_sum, 1] # result[0] =numerator , result[1] = denominator\n",
    "    \n",
    "    result = reduce(result)\n",
    "    result = verify_result(result)\n",
    "    \n",
    "    return result"
   ]
  },
  {
   "cell_type": "code",
   "execution_count": 56,
   "id": "63ab87a3-1251-4e01-9a47-a6a4c45ca141",
   "metadata": {},
   "outputs": [
    {
     "data": {
      "text/plain": [
       "[12, 1]"
      ]
     },
     "execution_count": 56,
     "metadata": {},
     "output_type": "execute_result"
    }
   ],
   "source": [
    "solution([4, 30, 50])"
   ]
  },
  {
   "cell_type": "code",
   "execution_count": 54,
   "id": "0eb2d8e9-2f6c-4ae8-abb8-570c2bdadd93",
   "metadata": {},
   "outputs": [
    {
     "data": {
      "text/plain": [
       "[1, 3, 5]"
      ]
     },
     "execution_count": 54,
     "metadata": {},
     "output_type": "execute_result"
    }
   ],
   "source": [
    "l"
   ]
  },
  {
   "cell_type": "code",
   "execution_count": null,
   "id": "078b99b0-d9b2-4cc7-a1cb-381f4d0864fd",
   "metadata": {},
   "outputs": [],
   "source": []
  },
  {
   "cell_type": "code",
   "execution_count": null,
   "id": "941d2319-e642-4b33-8bf1-4a8f00478762",
   "metadata": {},
   "outputs": [],
   "source": []
  }
 ],
 "metadata": {
  "kernelspec": {
   "display_name": "Python 3 (ipykernel)",
   "language": "python",
   "name": "python3"
  },
  "language_info": {
   "codemirror_mode": {
    "name": "ipython",
    "version": 3
   },
   "file_extension": ".py",
   "mimetype": "text/x-python",
   "name": "python",
   "nbconvert_exporter": "python",
   "pygments_lexer": "ipython3",
   "version": "3.8.8"
  }
 },
 "nbformat": 4,
 "nbformat_minor": 5
}
