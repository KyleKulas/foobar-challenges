{
 "cells": [
  {
   "cell_type": "markdown",
   "id": "3ff24a24-89d3-4bf3-8147-22e70bc26c06",
   "metadata": {
    "tags": []
   },
   "source": [
    "Escape Pods\n",
    "===========\n",
    "\n",
    "You've blown up the LAMBCHOP doomsday device and relieved the bunnies of their work duries -- and now you need to escape from the space station as quickly and as orderly as possible! The bunnies have all gathered in various locations throughout the station, and need to make their way towards the seemingly endless amount of escape pods positioned in other parts of the station. You need to get the numerous bunnies through the various rooms to the escape pods. Unfortunately, the corridors between the rooms can only fit so many bunnies at a time. What's more, many of the corridors were resized to accommodate the LAMBCHOP, so they vary in how many bunnies can move through them at a time. \n",
    "\n",
    "Given the starting room numbers of the groups of bunnies, the room numbers of the escape pods, and how many bunnies can fit through at a time in each direction of every corridor in between, figure out how many bunnies can safely make it to the escape pods at a time at peak.\n",
    "\n",
    "Write a function solution(entrances, exits, path) that takes an array of integers denoting where the groups of gathered bunnies are, an array of integers denoting where the escape pods are located, and an array of an array of integers of the corridors, returning the total number of bunnies that can get through at each time step as an int. The entrances and exits are disjoint and thus will never overlap. The path element path[A][B] = C describes that the corridor going from A to B can fit C bunnies at each time step.  There are at most 50 rooms connected by the corridors and at most 2000000 bunnies that will fit at a time.\n",
    "\n",
    "For example, if you have:  \n",
    "\n",
    "```\n",
    "entrances = [0, 1]  \n",
    "exits = [4, 5]\n",
    "\n",
    "path = [\n",
    "\n",
    "  [0, 0, 4, 6, 0, 0],  # Room 0: Bunnies   \n",
    "  [0, 0, 5, 2, 0, 0],  # Room 1: Bunnies  \n",
    "  [0, 0, 0, 0, 4, 4],  # Room 2: Intermediate room  \n",
    "  [0, 0, 0, 0, 6, 6],  # Room 3: Intermediate room  \n",
    "  [0, 0, 0, 0, 0, 0],  # Room 4: Escape pods  \n",
    "  [0, 0, 0, 0, 0, 0],  # Room 5: Escape pods \n",
    "\n",
    "]\n",
    "```\n",
    "\n",
    "Then in each time step, the following might happen:  \n",
    "0 sends 4/4 bunnies to 2 and 6/6 bunnies to 3  \n",
    "1 sends 4/5 bunnies to 2 and 2/2 bunnies to 3  \n",
    "2 sends 4/4 bunnies to 4 and 4/4 bunnies to 5  \n",
    "3 sends 4/6 bunnies to 4 and 4/6 bunnies to 5  \n",
    "\n",
    "So, in total, 16 bunnies could make it to the escape pods at 4 and 5 at each time step.  (Note that in this example, room 3 could have sent any variation of 8 bunnies to 4 and 5, such as 2/6 and 6/6, but the final solution remains the same.)\n",
    "\n",
    "\n",
    "Languages\n",
    "=========\n",
    "\n",
    "To provide a Java solution, edit Solution.java\n",
    "To provide a Python solution, edit solution.py\n",
    "\n",
    "Test cases\n",
    "==========\n",
    "Your code should pass the following test cases.\n",
    "Note that it may also be run against hidden test cases not shown here.\n",
    "\n",
    "-- Java cases --\n",
    "Input:\n",
    "Solution.solution({0, 1}, {4, 5}, {{0, 0, 4, 6, 0, 0}, {0, 0, 5, 2, 0, 0}, {0, 0, 0, 0, 4, 4}, {0, 0, 0, 0, 6, 6}, {0, 0, 0, 0, 0, 0}, {0, 0, 0, 0, 0, 0}})\n",
    "Output:\n",
    "    16\n",
    "\n",
    "Input:\n",
    "Solution.solution({0}, {3}, {{0, 7, 0, 0}, {0, 0, 6, 0}, {0, 0, 0, 8}, {9, 0, 0, 0}})\n",
    "Output:\n",
    "    6\n",
    "\n",
    "-- Python cases --\n",
    "Input:\n",
    "solution.solution([0], [3], [[0, 7, 0, 0], [0, 0, 6, 0], [0, 0, 0, 8], [9, 0, 0, 0]])\n",
    "Output:\n",
    "    6\n",
    "\n",
    "Input:\n",
    "solution.solution([0, 1], [4, 5], [[0, 0, 4, 6, 0, 0], [0, 0, 5, 2, 0, 0], [0, 0, 0, 0, 4, 4], [0, 0, 0, 0, 6, 6], [0, 0, 0, 0, 0, 0], [0, 0, 0, 0, 0, 0]])\n",
    "Output:\n",
    "    16\n",
    "\n",
    "Use verify [file] to test your solution and see how it does. When you are finished editing your code, use submit [file] to submit your answer. If your solution passes the test cases, it will be removed from your home folder."
   ]
  },
  {
   "cell_type": "code",
   "execution_count": 6,
   "id": "ea4a9928-3816-4127-bcb8-7f9f4cb1c91d",
   "metadata": {},
   "outputs": [],
   "source": [
    "def solution(entrances, exits, path):\n",
    "    \"\"\"\n",
    "    Returns the maximum number of bunnies that can make it to the escape pods at\n",
    "    one time\n",
    "\n",
    "    Strategy: Take each entrance corridor as a starting point and recursivecly \n",
    "    run the max number of bunnies through the corridors. As bunnies travel \n",
    "    through the corridor, reduce the corridor max by the number of bunnies that\n",
    "    went through. When an exit room is reached, the bunnies that made it that \n",
    "    far are added to the the total escaped count\n",
    "    \"\"\"\n",
    "    total_escaped = 0\n",
    "\n",
    "    def find_exits(room, bunnies):\n",
    "        escaped = 0\n",
    "        if room in exits:\n",
    "            return bunnies\n",
    "        else:\n",
    "            corridor_index = 0\n",
    "            while bunnies > 0 and corridor_index < len(path[room]):\n",
    "                corridor_max = path[room][corridor_index]\n",
    "                if corridor_max > 0:\n",
    "                    if corridor_max > bunnies:\n",
    "                        path[room][corridor_index] -= bunnies\n",
    "                        escaped += find_exits(corridor_index, bunnies)\n",
    "                    elif corridor_max <= bunnies:\n",
    "                        path[room][corridor_index] = 0\n",
    "                        bunnies -= corridor_max\n",
    "                        escaped += find_exits(corridor_index, corridor_max)\n",
    "                corridor_index += 1\n",
    "        return escaped\n",
    "\n",
    "    for entrance in entrances:\n",
    "        for i, corridor_max in enumerate(path[entrance]):\n",
    "            if corridor_max > 0:\n",
    "                total_escaped += find_exits(i, corridor_max)\n",
    "\n",
    "    return total_escaped"
   ]
  },
  {
   "cell_type": "code",
   "execution_count": 3,
   "id": "48a26fa8-4c0f-465d-bcd9-646080a7fcf2",
   "metadata": {},
   "outputs": [
    {
     "data": {
      "text/plain": [
       "16"
      ]
     },
     "execution_count": 3,
     "metadata": {},
     "output_type": "execute_result"
    }
   ],
   "source": [
    "solution([0, 1], [4, 5], [\n",
    "\n",
    "      [0, 0, 4, 6, 0, 0],    \n",
    "      [0, 0, 5, 2, 0, 0],  \n",
    "      [0, 0, 0, 0, 4, 4],  \n",
    "      [0, 0, 0, 0, 6, 6],   \n",
    "      [0, 0, 0, 0, 0, 0],  \n",
    "      [0, 0, 0, 0, 0, 0]])"
   ]
  },
  {
   "cell_type": "code",
   "execution_count": 4,
   "id": "014b7c9c-de22-43f0-860e-c9abad4e2a1e",
   "metadata": {},
   "outputs": [
    {
     "data": {
      "text/plain": [
       "6"
      ]
     },
     "execution_count": 4,
     "metadata": {},
     "output_type": "execute_result"
    }
   ],
   "source": [
    "solution([0], [3], [[0, 7, 0, 0], [0, 0, 6, 0], [0, 0, 0, 8], [9, 0, 0, 0]])"
   ]
  }
 ],
 "metadata": {
  "kernelspec": {
   "display_name": "py27",
   "language": "python",
   "name": "py27"
  },
  "language_info": {
   "codemirror_mode": {
    "name": "ipython",
    "version": 2
   },
   "file_extension": ".py",
   "mimetype": "text/x-python",
   "name": "python",
   "nbconvert_exporter": "python",
   "pygments_lexer": "ipython2",
   "version": "2.7.18"
  }
 },
 "nbformat": 4,
 "nbformat_minor": 5
}
