{
 "cells": [
  {
   "cell_type": "markdown",
   "metadata": {},
   "source": [
    "Running with Bunnies\n",
    "====================\n",
    "\n",
    "You and the bunny workers need to get out of this collapsing death trap of a space station -- and fast! Unfortunately, some of the bunnies have been weakened by their long work shifts and can't run very fast. Their friends are trying to help them, but this escape would go a lot faster if you also pitched in. The defensive bulkhead doors have begun to close, and if you don't make it through in time, you'll be trapped! You need to grab as many bunnies as you can and get through the bulkheads before they close. \n",
    "\n",
    "The time it takes to move from your starting point to all of the bunnies and to the bulkhead will be given to you in a square matrix of integers. Each row will tell you the time it takes to get to the start, first bunny, second bunny, ..., last bunny, and the bulkhead in that order. The order of the rows follows the same pattern (start, each bunny, bulkhead). The bunnies can jump into your arms, so picking them up is instantaneous, and arriving at the bulkhead at the same time as it seals still allows for a successful, if dramatic, escape. (Don't worry, any bunnies you don't pick up will be able to escape with you since they no longer have to carry the ones you did pick up.) You can revisit different spots if you wish, and moving to the bulkhead doesn't mean you have to immediately leave -- you can move to and from the bulkhead to pick up additional bunnies if time permits.\n",
    "\n",
    "In addition to spending time traveling between bunnies, some paths interact with the space station's security checkpoints and add time back to the clock. Adding time to the clock will delay the closing of the bulkhead doors, and if the time goes back up to 0 or a positive number after the doors have already closed, it triggers the bulkhead to reopen. Therefore, it might be possible to walk in a circle and keep gaining time: that is, each time a path is traversed, the same amount of time is used or added.\n",
    "\n",
    "Write a function of the form solution(times, time_limit) to calculate the most bunnies you can pick up and which bunnies they are, while still escaping through the bulkhead before the doors close for good. If there are multiple sets of bunnies of the same size, return the set of bunnies with the lowest worker IDs (as indexes) in sorted order. The bunnies are represented as a sorted list by worker ID, with the first bunny being 0. There are at most 5 bunnies, and time_limit is a non-negative integer that is at most 999.\n",
    "\n",
    "For instance, in the case of\n",
    "```\n",
    "[\n",
    "  [0, 2, 2, 2, -1],  # 0 = Start\n",
    "  [9, 0, 2, 2, -1],  # 1 = Bunny 0\n",
    "  [9, 3, 0, 2, -1],  # 2 = Bunny 1\n",
    "  [9, 3, 2, 0, -1],  # 3 = Bunny 2\n",
    "  [9, 3, 2, 2,  0],  # 4 = Bulkhead\n",
    "]\n",
    "```\n",
    "and a time limit of 1, the five inner array rows designate the starting point, bunny 0, bunny 1, bunny 2, and the bulkhead door exit respectively. You could take the path:\n",
    "\n",
    "Start End Delta Time Status\n",
    "```\n",
    "    -   0     -    1 Bulkhead initially open\n",
    "    0   4    -1    2\n",
    "    4   2     2    0\n",
    "    2   4    -1    1\n",
    "    4   3     2   -1 Bulkhead closes\n",
    "    3   4    -1    0 Bulkhead reopens; you and the bunnies exit\n",
    "```\n",
    "With this solution, you would pick up bunnies 1 and 2. This is the best combination for this space station hallway, so the solution is [1, 2].\n",
    "\n",
    "Languages\n",
    "=========\n",
    "\n",
    "To provide a Java solution, edit Solution.java\n",
    "To provide a Python solution, edit solution.py\n",
    "\n",
    "Test cases\n",
    "==========\n",
    "Your code should pass the following test cases.\n",
    "Note that it may also be run against hidden test cases not shown here.\n",
    "\n",
    "-- Java cases --\n",
    "Input:\n",
    "```\n",
    "Solution.solution({{0, 1, 1, 1, 1}, {1, 0, 1, 1, 1}, {1, 1, 0, 1, 1}, {1, 1, 1, 0, 1}, {1, 1, 1, 1, 0}}, 3)\n",
    "```\n",
    "Output:\n",
    "```\n",
    "    [0, 1]\n",
    "```\n",
    "Input:\n",
    "```\n",
    "Solution.solution({{0, 2, 2, 2, -1}, {9, 0, 2, 2, -1}, {9, 3, 0, 2, -1}, {9, 3, 2, 0, -1}, {9, 3, 2, 2, 0}}, 1)\n",
    "```\n",
    "Output:\n",
    "```\n",
    "    [1, 2]\n",
    "```\n",
    "\n",
    "-- Python cases --\n",
    "Input:\n",
    "```\n",
    "solution.solution([[0, 2, 2, 2, -1], [9, 0, 2, 2, -1], [9, 3, 0, 2, -1], [9, 3, 2, 0, -1], [9, 3, 2, 2, 0]], 1)\n",
    "```\n",
    "Output:\n",
    "```\n",
    "    [1, 2]\n",
    "```\n",
    "Input:\n",
    "```\n",
    "solution.solution([[0, 1, 1, 1, 1], [1, 0, 1, 1, 1], [1, 1, 0, 1, 1], [1, 1, 1, 0, 1], [1, 1, 1, 1, 0]], 3)\n",
    "```\n",
    "Output:\n",
    "```   \n",
    "    [0, 1]\n",
    "```    "
   ]
  },
  {
   "cell_type": "markdown",
   "metadata": {},
   "source": [
    "# First attempt\n",
    "\n",
    "Strategy\n",
    "Brute force\n",
    "recursively check all possible paths up to move_limit."
   ]
  },
  {
   "cell_type": "code",
   "execution_count": 18,
   "metadata": {},
   "outputs": [],
   "source": [
    "# passes all but 5 and 7\n",
    "def solution(times, time_limit):\n",
    "    \"\"\"\n",
    "    [\n",
    "    [0, 2, 2, 2, -1],  # 0 = Start\n",
    "    [9, 0, 2, 2, -1],  # 1 = Bunny 0\n",
    "    [9, 3, 0, 2, -1],  # 2 = Bunny 1\n",
    "    [9, 3, 2, 0, -1],  # 3 = Bunny 2\n",
    "    [9, 3, 2, 2,  0],  # 4 = Bulkhead\n",
    "    ]\n",
    "    \"\"\"\n",
    "    move_limit = 8\n",
    "\n",
    "    def recurse(times, position, time, bunnies, bunnies_to_collect, move_count):\n",
    "\n",
    "        # print(position, time, bunnies, move_count)\n",
    "        if position == len(times) - 1 and bunnies_to_collect == len(bunnies) and time >= 0:\n",
    "            return bunnies\n",
    "        elif move_count == move_limit:\n",
    "            return None\n",
    "        else:\n",
    "            \n",
    "            for index, move in enumerate(times[position]):\n",
    "                if not index == position:\n",
    "                    if position > 0 and position < len(times) - 1:\n",
    "                        bunnies.add(position - 1)\n",
    "                    bunny_copy = bunnies.copy()\n",
    "                    \n",
    "                    answer = recurse(times, index, time - move, bunny_copy, bunnies_to_collect, move_count + 1)\n",
    "                    if answer:\n",
    "                            return answer\n",
    "            return None               \n",
    "\n",
    "  \n",
    "    for bunnies_to_collect in range(len(times) - 2, 0, -1):\n",
    "        # print(\"bunnies_to_collect\", bunnies_to_collect)\n",
    "        answer = recurse(times, 0, time_limit, set(), bunnies_to_collect, 0)\n",
    "        if answer:\n",
    "            return list(answer)\n",
    "    return []"
   ]
  },
  {
   "cell_type": "code",
   "execution_count": 19,
   "metadata": {},
   "outputs": [
    {
     "data": {
      "text/plain": [
       "[1, 2]"
      ]
     },
     "execution_count": 19,
     "metadata": {},
     "output_type": "execute_result"
    }
   ],
   "source": [
    "solution([[0, 2, 2, 2, -1], [9, 0, 2, 2, -1], [9, 3, 0, 2, -1], [9, 3, 2, 0, -1], [9, 3, 2, 2, 0]], 1)"
   ]
  },
  {
   "cell_type": "markdown",
   "metadata": {},
   "source": [
    "# Bellman-Ford algorythm used to check for negative cycles"
   ]
  },
  {
   "cell_type": "code",
   "execution_count": 12,
   "metadata": {},
   "outputs": [],
   "source": [
    "# passes all but test case 5\n",
    "\n",
    "def solution(times, time_limit):\n",
    "    dist_from_src = [float('inf') for destination in times]\n",
    "    dist_from_src[0] = 0\n",
    "    previous_dist_from_src = []\n",
    "\n",
    "    for iteration in range(len(times) - 1):\n",
    "        for row_index, row in enumerate(times):\n",
    "            for dest_index, dest in enumerate(row):\n",
    "                if dest_index != row_index and dist_from_src[row_index] + dest < dist_from_src[dest_index]:\n",
    "                    dist_from_src[dest_index] = dist_from_src[row_index] + dest\n",
    "                \n",
    "                # print(iteration)\n",
    "                # print(row_index)\n",
    "                # print(dist_from_src)\n",
    "\n",
    "        if dist_from_src == previous_dist_from_src:\n",
    "            break\n",
    "        previous_dist_from_src = dist_from_src\n",
    "    # Check for negative cycle\n",
    "    for row_index, row in enumerate(times):\n",
    "        for dest_index, dest in enumerate(row):\n",
    "            if dest_index != row_index and dist_from_src[row_index] + dest < dist_from_src[dest_index]:\n",
    "                return list(range(0, len(times) - 2))\n",
    "                \n",
    "\n",
    "    move_limit = 6\n",
    "\n",
    "    def recurse(times, position, time, bunnies, bunnies_to_collect, move_count):\n",
    "\n",
    "        # print(position, time, bunnies, move_count)\n",
    "        if position == len(times) - 1 and bunnies_to_collect == len(bunnies) and time >= 0:\n",
    "            return bunnies\n",
    "        elif move_count == move_limit or time < -5:\n",
    "            return None\n",
    "        else:\n",
    "            \n",
    "            for index, move in enumerate(times[position]):\n",
    "                if not index == position:\n",
    "                    if position > 0 and position < len(times) - 1:\n",
    "                        bunnies.add(position - 1)\n",
    "                    bunny_copy = bunnies.copy()\n",
    "                    \n",
    "                    answer = recurse(times, index, time - move, bunny_copy, bunnies_to_collect, move_count + 1)\n",
    "                    if answer:\n",
    "                            return answer\n",
    "            return None               \n",
    "\n",
    "  \n",
    "    for bunnies_to_collect in range(len(times) - 2, 0, -1):\n",
    "        # print(\"bunnies_to_collect\", bunnies_to_collect)\n",
    "        answer = recurse(times, 0, time_limit, set(), bunnies_to_collect, 0)\n",
    "        if answer:\n",
    "            return list(answer)\n",
    "    return []"
   ]
  },
  {
   "cell_type": "code",
   "execution_count": 20,
   "metadata": {},
   "outputs": [
    {
     "data": {
      "text/plain": [
       "[1, 2]"
      ]
     },
     "execution_count": 20,
     "metadata": {},
     "output_type": "execute_result"
    }
   ],
   "source": [
    "solution([[0, 2, 2, 2, -1], [9, 0, 2, 2, -1], [9, 3, 0, 2, -1], [9, 3, 2, 0, -1], [9, 3, 2, 2, 0]], 1)"
   ]
  },
  {
   "cell_type": "markdown",
   "metadata": {},
   "source": [
    "# Final Solution\n",
    "\n",
    "works for all cases!\n",
    "\n",
    "### Strategy\n",
    "- find the shortest pairwise distance between nodes using floyd warshall algorithm. \n",
    "- Check if negative cycles exist. \n",
    "- If not, check all possible permutations of the order in which bunnies could be picked up. For each permutation, look up the shortest distance for each pair of nodes in the path using the distance matrix created by floyd warshall algorithm.  \n",
    "- return sorted bunnies list if path_time is less than time_limit"
   ]
  },
  {
   "cell_type": "code",
   "execution_count": 62,
   "metadata": {},
   "outputs": [],
   "source": [
    "def solution(times, time_limit):\n",
    "    \"\"\"\n",
    "    Input: times = matrix representing travel time between nodes, \n",
    "            time_limit = maximum allowable path time to finish node\n",
    "\n",
    "    Return: sorted list of the most bunnies that could be rescued in the \n",
    "            time limit\n",
    "    \"\"\"\n",
    "    \n",
    "    from itertools import permutations\n",
    "\n",
    "\n",
    "\n",
    "    #Floyd warshall algorithm for shortest distance between all pairs of nodes\n",
    "    dist = times[:]\n",
    "    n = len(times)\n",
    "    \n",
    "    # create distance matrix \n",
    "    for k in range(n):\n",
    "        for i in range(n):\n",
    "            for j in range(n):\n",
    "                if dist[i][k] + dist[k][j] < dist[i][j]:\n",
    "                    dist[i][j] = dist[i][k] + dist[k][j]\n",
    "\n",
    "    # check for negative cycle\n",
    "    for test in range(len(dist)):\n",
    "        if dist[test][test] < 0:\n",
    "            return list(range(len(times)-2))\n",
    "\n",
    "    # if no negative cycles exist, then check all permutations of possible \n",
    "    # orders in which bunnies could be picked up. \n",
    "\n",
    "    for num_bunnies_to_rescue in range(n-2, 0, -1):\n",
    "        for bunnies in permutations(range(n-2),num_bunnies_to_rescue):\n",
    "            # create path from bunny permutation\n",
    "            path = [0]\n",
    "            path.extend([x + 1 for x in bunnies])\n",
    "            path.append(n-1)\n",
    "            \n",
    "            #calculate path time\n",
    "            path_time = 0\n",
    "            for i in range(len(path)-1):\n",
    "                path_time += dist[path[i]][path[i+1]]\n",
    "            \n",
    "            # check for end case\n",
    "            if path_time <= time_limit:\n",
    "                return sorted(bunnies)\n",
    "\n",
    "    return []\n"
   ]
  },
  {
   "cell_type": "code",
   "execution_count": 61,
   "metadata": {},
   "outputs": [
    {
     "data": {
      "text/plain": [
       "[1, 2]"
      ]
     },
     "execution_count": 61,
     "metadata": {},
     "output_type": "execute_result"
    }
   ],
   "source": [
    "solution([[0, 2, 2, 2, -1], [9, 0, 2, 2, -1], [9, 3, 0, 2, -1], [9, 3, 2, 0, -1], [9, 3, 2, 2, 0]], 1)"
   ]
  }
 ],
 "metadata": {
  "interpreter": {
   "hash": "00dbf6190ae443614f0ba75cd80d50fcc66744afc5db8535f91490f5d7e57fbe"
  },
  "kernelspec": {
   "display_name": "Python 2.7.18 ('py27')",
   "language": "python",
   "name": "python3"
  },
  "language_info": {
   "codemirror_mode": {
    "name": "ipython",
    "version": 2
   },
   "file_extension": ".py",
   "mimetype": "text/x-python",
   "name": "python",
   "nbconvert_exporter": "python",
   "pygments_lexer": "ipython2",
   "version": "2.7.18"
  },
  "orig_nbformat": 4
 },
 "nbformat": 4,
 "nbformat_minor": 2
}
