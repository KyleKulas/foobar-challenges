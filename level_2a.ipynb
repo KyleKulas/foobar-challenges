{
 "cells": [
  {
   "cell_type": "markdown",
   "id": "bca0b16b",
   "metadata": {},
   "source": [
    "Please Pass the Coded Messages\n",
    "==============================\n",
    "\n",
    "You need to pass a message to the bunny prisoners, but to avoid detection, the code you agreed to use is... obscure, to say the least. The bunnies are given food on standard-issue prison plates that are stamped with the numbers 0-9 for easier sorting, and you need to combine sets of plates to create the numbers in the code. The signal that a number is part of the code is that it is divisible by 3. You can do smaller numbers like 15 and 45 easily, but bigger numbers like 144 and 414 are a little trickier. Write a program to help yourself quickly create large numbers for use in the code, given a limited number of plates to work with.\n",
    "\n",
    "You have L, a list containing some digits (0 to 9). Write a function answer(L) which finds the largest number that can be made from some or all of these digits and is divisible by 3. If it is not possible to make such a number, return 0 as the answer. L will contain anywhere from 1 to 9 digits.  The same digit may appear multiple times in the list, but each element in the list may only be used once.\n",
    "\n",
    "Test cases\n",
    "==========\n",
    "\n",
    "Inputs:\n",
    "    solution([3, 1, 4, 1])\n",
    "Output:\n",
    "    4311\n",
    "\n",
    "Inputs:\n",
    "    solution([3, 1, 4, 1, 5, 9])\n",
    "Output:\n",
    "    94311"
   ]
  },
  {
   "cell_type": "code",
   "execution_count": 1,
   "id": "a5942350-7e91-430d-81a5-0d22e5bacbe6",
   "metadata": {},
   "outputs": [],
   "source": [
    "# if the sum of the digits in a number is divisble by 3,\n",
    "# then that number is divisble by three. \n",
    "# Therefore any combination of all digits from a number divisble by 3, \n",
    "# are also divisible by three.\n",
    "# Loop over all combinations of the list elements. Start with combinations with the largest\n",
    "# number of elements and work down in number of elements. \n",
    "# Sort the list so that the first combination encountered will be the largest\n",
    "\n",
    "def solution(l):\n",
    "    \"\"\"\n",
    "    Input: List of digits [0:9] 1-9 digits in length\n",
    "    Return: Largest number, created using unique elements of L,\n",
    "            that is divisible by 3\n",
    "    \"\"\"\n",
    "    from itertools import combinations\n",
    "    \n",
    "    # utility function to concat ints in the largest combo for final answer \n",
    "    # [3, 2, 1] >> 321\n",
    "    def max_int(largest_combo):\n",
    "        return sum([largest_combo[::-1][x] * 10 ** x for x in range(len(largest_combo))])\n",
    "     \n",
    "    l.sort(reverse=True)\n",
    "    combos = []\n",
    "    for combo_size in range(len(l), 0, -1):\n",
    "        for combo in combinations(l, combo_size):\n",
    "            if (sum(combo) % 3) == 0:\n",
    "                # first combo divisible 3 is largest combo\n",
    "                return(max_int(combo))\n",
    "    \n",
    "    return 0"
   ]
  },
  {
   "cell_type": "code",
   "execution_count": 2,
   "id": "d8e50ab4-1e3a-455e-8548-17168b0455c5",
   "metadata": {},
   "outputs": [
    {
     "data": {
      "text/plain": [
       "4311"
      ]
     },
     "execution_count": 2,
     "metadata": {},
     "output_type": "execute_result"
    }
   ],
   "source": [
    "solution([3, 1, 4, 1])"
   ]
  },
  {
   "cell_type": "code",
   "execution_count": null,
   "id": "d12d832e-ae2c-44cc-a91a-482256b003c4",
   "metadata": {},
   "outputs": [],
   "source": []
  }
 ],
 "metadata": {
  "interpreter": {
   "hash": "00dbf6190ae443614f0ba75cd80d50fcc66744afc5db8535f91490f5d7e57fbe"
  },
  "kernelspec": {
   "display_name": "text_env",
   "language": "python",
   "name": "python3"
  },
  "language_info": {
   "codemirror_mode": {
    "name": "ipython",
    "version": 2
   },
   "file_extension": ".py",
   "mimetype": "text/x-python",
   "name": "python",
   "nbconvert_exporter": "python",
   "pygments_lexer": "ipython2",
   "version": "2.7.18"
  }
 },
 "nbformat": 4,
 "nbformat_minor": 5
}
