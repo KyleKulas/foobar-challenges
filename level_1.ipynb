{
 "cells": [
  {
   "cell_type": "markdown",
   "id": "b193dc1b",
   "metadata": {},
   "source": [
    "Who would’ve guessed? Doomsday devices take a LOT of power. Commander Lambda wants to supplement the LAMBCHOP’s quantum antimatter reactor core with solar arrays, and you’ve been tasked with setting up the solar panels.\n",
    "\n",
    "Due to the nature of the space station’s outer paneling, all of its solar panels must be squares. Fortunately, you have one very large and flat area of solar material, a pair of industrial-strength scissors, and enough MegaCorp Solar Tape(TM) to piece together any excess panel material into more squares. For example, if you had a total area of 12 square yards of solar material, you would be able to make one 3x3 square panel (with a total area of 9). That would leave 3 square yards, so you can turn those into three 1x1 square solar panels.\n",
    "\n",
    "Write a function solution(area) that takes as its input a single unit of measure representing the total area of solar panels you have (between 1 and 1000000 inclusive) and returns a list of the areas of the largest squares you could make out of those panels, starting with the largest squares first. So, following the example above, solution(12) would return [9, 1, 1, 1].\n",
    "\n",
    "Input:\n",
    "solution.solution(15324)\n",
    "Output:\n",
    "15129,169,25,1\n",
    "\n",
    "Input:\n",
    "solution.solution(12)\n",
    "Output:\n",
    "9,1,1,1"
   ]
  },
  {
   "cell_type": "code",
   "execution_count": 2,
   "id": "ea3b7e74-282f-4efb-9974-815d63e59d97",
   "metadata": {},
   "outputs": [],
   "source": [
    "def solution(area):\n",
    "    from math import trunc, sqrt\n",
    "    squares = []\n",
    "    while area > 0:\n",
    "        largest_square = trunc(sqrt(area)) ** 2\n",
    "        squares.append(largest_square)\n",
    "        area -= largest_square\n",
    "    return squares"
   ]
  },
  {
   "cell_type": "code",
   "execution_count": 10,
   "id": "996b551e-0fe1-49b4-ab6f-03d654692cbb",
   "metadata": {},
   "outputs": [
    {
     "data": {
      "text/plain": [
       "[81, 16, 1, 1]"
      ]
     },
     "execution_count": 10,
     "metadata": {},
     "output_type": "execute_result"
    }
   ],
   "source": [
    "solution(99)"
   ]
  },
  {
   "cell_type": "code",
   "execution_count": null,
   "id": "d43d39cd-40b9-4012-b8dc-3e5a6a53e9e7",
   "metadata": {},
   "outputs": [],
   "source": []
  }
 ],
 "metadata": {
  "kernelspec": {
   "display_name": "Python3",
   "language": "python",
   "name": "python3"
  },
  "language_info": {
   "codemirror_mode": {
    "name": "ipython",
    "version": 3
   },
   "file_extension": ".py",
   "mimetype": "text/x-python",
   "name": "python",
   "nbconvert_exporter": "python",
   "pygments_lexer": "ipython3",
   "version": "3.8.8"
  }
 },
 "nbformat": 4,
 "nbformat_minor": 5
}
