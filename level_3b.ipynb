{
 "cells": [
  {
   "cell_type": "markdown",
   "id": "a48e9691-b697-4dea-bd04-35fa1c6d71af",
   "metadata": {},
   "source": [
    "Bomb, Baby!\n",
    "===========\n",
    "\n",
    "You're so close to destroying the LAMBCHOP doomsday device you can taste it! But in order to do so, you need to deploy special self-replicating bombs designed for you by the brightest scientists on Bunny Planet. There are two types: Mach bombs (M) and Facula bombs (F). The bombs, once released into the LAMBCHOP's inner workings, will automatically deploy to all the strategic points you've identified and destroy them at the same time. \n",
    "\n",
    "But there's a few catches. First, the bombs self-replicate via one of two distinct processes: \n",
    "Every Mach bomb retrieves a sync unit from a Facula bomb; for every Mach bomb, a Facula bomb is created;\n",
    "Every Facula bomb spontaneously creates a Mach bomb.\n",
    "\n",
    "For example, if you had 3 Mach bombs and 2 Facula bombs, they could either produce 3 Mach bombs and 5 Facula bombs, or 5 Mach bombs and 2 Facula bombs. The replication process can be changed each cycle. \n",
    "\n",
    "Second, you need to ensure that you have exactly the right number of Mach and Facula bombs to destroy the LAMBCHOP device. Too few, and the device might survive. Too many, and you might overload the mass capacitors and create a singularity at the heart of the space station - not good! \n",
    "\n",
    "And finally, you were only able to smuggle one of each type of bomb - one Mach, one Facula - aboard the ship when you arrived, so that's all you have to start with. (Thus it may be impossible to deploy the bombs to destroy the LAMBCHOP, but that's not going to stop you from trying!) \n",
    "\n",
    "You need to know how many replication cycles (generations) it will take to generate the correct amount of bombs to destroy the LAMBCHOP. Write a function solution(M, F) where M and F are the number of Mach and Facula bombs needed. Return the fewest number of generations (as a string) that need to pass before you'll have the exact number of bombs necessary to destroy the LAMBCHOP, or the string \"impossible\" if this can't be done! M and F will be string representations of positive integers no larger than 10^50. For example, if M = \"2\" and F = \"1\", one generation would need to pass, so the solution would be \"1\". However, if M = \"2\" and F = \"4\", it would not be possible.\n",
    "\n",
    "-- Python cases --  \n",
    "Input:   \n",
    "solution.solution('4', '7')  \n",
    "Output:\n",
    "    4\n",
    "\n",
    "Input:  \n",
    "solution.solution('2', '1')  \n",
    "Output:\n",
    "    1\n"
   ]
  },
  {
   "cell_type": "markdown",
   "id": "ba6a7d86",
   "metadata": {},
   "source": [
    "### Strategy\n",
    "\n",
    "If m or f are multiples of each other then return impossible\n",
    "\n",
    "Starting with m and f, subtract the smaller from the larger each generation. End when both m and f equal 1. "
   ]
  },
  {
   "cell_type": "code",
   "execution_count": 7,
   "id": "a89b4e7c-3144-40e5-bb0d-e9f923b2d5be",
   "metadata": {},
   "outputs": [],
   "source": [
    "import math\n",
    "\n",
    "def solution(m, f):\n",
    "    '''\n",
    "    Input: m and f as strings\n",
    "    Return: number of generations needed to create m and f bombs\n",
    "    '''\n",
    "    bombs = {'m': int(m),\n",
    "             'f': int(f)}\n",
    "    \n",
    "    def get_largest(bombs):\n",
    "        return ('m','f') if bombs['m'] > bombs['f'] else ('f','m')\n",
    "    \n",
    "    generations = 0\n",
    "    \n",
    "    if (bombs['m'] > 1 and bombs['f'] > 1) and (bombs['m'] % bombs['f'] == 0 or bombs['f'] % bombs['m'] == 0) :\n",
    "        return 'impossible'\n",
    "    \n",
    "    while True:\n",
    "\n",
    "        if bombs['m'] == 1 and bombs['f'] == 1:\n",
    "            break\n",
    "        \n",
    "        largest = get_largest(bombs)\n",
    "        multiple = bombs[largest[0]] // bombs[largest[1]]\n",
    "\n",
    "        if bombs[largest[1]] == 1:\n",
    "            multiple = multiple -1\n",
    "        bombs[largest[0]] = bombs[largest[0]] - (multiple * bombs[largest[1]])\n",
    "        \n",
    "        generations += multiple\n",
    "           \n",
    "    return str(generations)\n",
    "        "
   ]
  },
  {
   "cell_type": "code",
   "execution_count": 8,
   "id": "f467a9e9-0dc2-466d-83f6-225e276fee58",
   "metadata": {},
   "outputs": [
    {
     "data": {
      "text/plain": [
       "'4'"
      ]
     },
     "execution_count": 8,
     "metadata": {},
     "output_type": "execute_result"
    }
   ],
   "source": [
    "solution('4', '7')"
   ]
  },
  {
   "cell_type": "code",
   "execution_count": null,
   "id": "30a08eb7-10ea-46c6-a05b-1bd3b7efa7e3",
   "metadata": {},
   "outputs": [],
   "source": []
  },
  {
   "cell_type": "markdown",
   "id": "51379748",
   "metadata": {},
   "source": []
  }
 ],
 "metadata": {
  "interpreter": {
   "hash": "00dbf6190ae443614f0ba75cd80d50fcc66744afc5db8535f91490f5d7e57fbe"
  },
  "kernelspec": {
   "display_name": "py27",
   "language": "python",
   "name": "python3"
  },
  "language_info": {
   "codemirror_mode": {
    "name": "ipython",
    "version": 2
   },
   "file_extension": ".py",
   "mimetype": "text/x-python",
   "name": "python",
   "nbconvert_exporter": "python",
   "pygments_lexer": "ipython2",
   "version": "2.7.18"
  }
 },
 "nbformat": 4,
 "nbformat_minor": 5
}
