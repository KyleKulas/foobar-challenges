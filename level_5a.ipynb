{
 "cells": [
  {
   "cell_type": "markdown",
   "metadata": {},
   "source": [
    "Dodge the Lasers!\n",
    "=================\n",
    "\n",
    "Oh no! You've managed to escape Commander Lambda's collapsing space station in an escape pod with the rescued bunny workers - but Commander Lambda isnt about to let you get away that easily. Lambda sent an elite fighter pilot squadron after you -- and they've opened fire!\n",
    "\n",
    "Fortunately, you know something important about the ships trying to shoot you down. Back when you were still Lambda's assistant, the Commander asked you to help program the aiming mechanisms for the starfighters. They undergo rigorous testing procedures, but you were still able to slip in a subtle bug. The software works as a time step simulation: if it is tracking a target that is accelerating away at 45 degrees, the software will consider the targets acceleration to be equal to the square root of 2, adding the calculated result to the targets end velocity at each timestep. However, thanks to your bug, instead of storing the result with proper precision, it will be truncated to an integer before adding the new velocity to your current position.  This means that instead of having your correct position, the targeting software will erringly report your position as sum(i=1..n, floor(i*sqrt(2))) - not far enough off to fail Commander Lambdas testing, but enough that it might just save your life.\n",
    "\n",
    "If you can quickly calculate the target of the starfighters' laser beams to know how far off they'll be, you can trick them into shooting an asteroid, releasing dust, and concealing the rest of your escape.  Write a function solution(str_n) which, given the string representation of an integer n, returns the sum of (floor(1*sqrt(2)) + floor(2*sqrt(2)) + ... + floor(n*sqrt(2))) as a string. That is, for every number i in the range 1 to n, it adds up all of the integer portions of i*sqrt(2).\n",
    "\n",
    "For example, if str_n was \"5\", the solution would be calculated as\n",
    "floor(1*sqrt(2)) +\n",
    "floor(2*sqrt(2)) +\n",
    "floor(3*sqrt(2)) +\n",
    "floor(4*sqrt(2)) +\n",
    "floor(5*sqrt(2))\n",
    "= 1+2+4+5+7 = 19\n",
    "so the function would return \"19\".\n",
    "\n",
    "\n",
    "str_n will be a positive integer between 1 and 10^100, inclusive. Since n can be very large (up to 101 digits!), using just sqrt(2) and a loop won't work. Sometimes, it's easier to take a step back and concentrate not on what you have in front of you, but on what you don't.\n",
    "\n",
    "Languages\n",
    "=========\n",
    "\n",
    "To provide a Java solution, edit Solution.java\n",
    "To provide a Python solution, edit solution.py\n",
    "\n",
    "Test cases\n",
    "==========\n",
    "Your code should pass the following test cases.\n",
    "Note that it may also be run against hidden test cases not shown here.\n",
    "\n",
    "-- Java cases --\n",
    "Input:\n",
    "Solution.solution('77')\n",
    "Output:\n",
    "    4208\n",
    "\n",
    "Input:\n",
    "Solution.solution('5')\n",
    "Output:\n",
    "    19\n",
    "\n",
    "-- Python cases --\n",
    "Input:\n",
    "solution.solution('77')\n",
    "Output:\n",
    "    4208\n",
    "\n",
    "Input:\n",
    "solution.solution('5')\n",
    "Output:\n",
    "    19\n"
   ]
  },
  {
   "cell_type": "code",
   "execution_count": 47,
   "metadata": {},
   "outputs": [],
   "source": [
    "# only passes 1,2,3\n",
    "import math\n",
    "\n",
    "def solution(str_n):\n",
    "\n",
    "    number = int(str_n)\n",
    "\n",
    "    def recurse(n):\n",
    "\n",
    "        if n == 0:\n",
    "            return 0\n",
    "        else:\n",
    "            n_prime = math.floor((math.sqrt(2)-1) * n)\n",
    "            return n*n_prime + n * (n + 1) / 2.0 - n_prime * (n_prime + 1) / 2.0 - recurse(n_prime)\n",
    "\n",
    "    return str(int(recurse(number)))"
   ]
  },
  {
   "cell_type": "code",
   "execution_count": 60,
   "metadata": {},
   "outputs": [
    {
     "data": {
      "text/plain": [
       "'107774237074923792954169349548568445357168313369098534009950264190795207729'"
      ]
     },
     "execution_count": 60,
     "metadata": {},
     "output_type": "execute_result"
    }
   ],
   "source": [
    "solution('12345678909876543211234567890987654321')"
   ]
  },
  {
   "cell_type": "code",
   "execution_count": 41,
   "metadata": {},
   "outputs": [],
   "source": [
    "# only passes 1,2,3\n",
    "def solution(n):\n",
    "    import math\n",
    "    sum = 0\n",
    "    for x in range(1, int(n) +1):\n",
    "        sum += math.floor(x * math.sqrt(2))\n",
    "    return str(int(sum))"
   ]
  },
  {
   "cell_type": "code",
   "execution_count": 43,
   "metadata": {},
   "outputs": [
    {
     "data": {
      "text/plain": [
       "'4208'"
      ]
     },
     "execution_count": 43,
     "metadata": {},
     "output_type": "execute_result"
    }
   ],
   "source": [
    "solution('77')"
   ]
  },
  {
   "cell_type": "code",
   "execution_count": 66,
   "metadata": {},
   "outputs": [],
   "source": [
    "# passes all cases\n",
    "\n",
    "\n",
    "from decimal import Decimal, localcontext\n",
    "\n",
    "def solution(str_n):\n",
    "\n",
    "    with localcontext() as ctx:\n",
    "        ctx.prec = 200   # Perform a high precision calculation\n",
    "        \n",
    "        number = Decimal(str_n)\n",
    "\n",
    "        def recurse(n):\n",
    "            \n",
    "            if n == 0:\n",
    "                return 0\n",
    "            else:\n",
    "                n_prime = int((Decimal(2).sqrt()-1) * n)\n",
    "                return n*n_prime + n * (n + 1) / 2 - n_prime * (n_prime + 1) / 2 - recurse(n_prime)\n",
    "\n",
    "        return str(int(recurse(number)))"
   ]
  },
  {
   "cell_type": "code",
   "execution_count": 67,
   "metadata": {},
   "outputs": [
    {
     "data": {
      "text/plain": [
       "'107774237074923792954169349548568481975255931468369155782286734215884854653'"
      ]
     },
     "execution_count": 67,
     "metadata": {},
     "output_type": "execute_result"
    }
   ],
   "source": [
    "solution('12345678909876543211234567890987654321')"
   ]
  },
  {
   "cell_type": "code",
   "execution_count": 69,
   "metadata": {},
   "outputs": [
    {
     "data": {
      "text/plain": [
       "1"
      ]
     },
     "execution_count": 69,
     "metadata": {},
     "output_type": "execute_result"
    }
   ],
   "source": []
  },
  {
   "cell_type": "code",
   "execution_count": 72,
   "metadata": {},
   "outputs": [
    {
     "name": "stdout",
     "output_type": "stream",
     "text": [
      "('test1', Context(prec=100, rounding=ROUND_HALF_EVEN, Emin=-999999999, Emax=999999999, capitals=1, flags=[Rounded, Inexact], traps=[InvalidOperation, Overflow, DivisionByZero]))\n",
      "('test 2', Context(prec=100, rounding=ROUND_HALF_EVEN, Emin=-999999999, Emax=999999999, capitals=1, flags=[Rounded, Inexact], traps=[InvalidOperation, Overflow, DivisionByZero]))\n",
      "('test 2', Context(prec=100, rounding=ROUND_HALF_EVEN, Emin=-999999999, Emax=999999999, capitals=1, flags=[Rounded, Inexact], traps=[InvalidOperation, Overflow, DivisionByZero]))\n"
     ]
    }
   ],
   "source": [
    "from decimal import Decimal, getcontext\n",
    "def test1(n):\n",
    "    getcontext().prec = 100\n",
    "    print('test1', getcontext())\n",
    "    def test2():\n",
    "        print('test 2', getcontext())\n",
    "\n",
    "    test2()\n",
    "    test2()\n",
    "\n",
    "test1(1)"
   ]
  },
  {
   "cell_type": "code",
   "execution_count": 73,
   "metadata": {},
   "outputs": [],
   "source": [
    "# passes all cases\n",
    "# formula from this stackexchange https://math.stackexchange.com/questions/2052179/how-to-find-sum-i-1n-left-lfloor-i-sqrt2-right-rfloor-a001951-a-beatty-s\n",
    "\n",
    "from decimal import Decimal, getcontext\n",
    "\n",
    "def solution(str_n):\n",
    "\n",
    "    getcontext().prec = 200\n",
    "    number = Decimal(str_n)\n",
    "\n",
    "    def recurse(n):\n",
    "        \n",
    "        if n == 0:\n",
    "            return 0\n",
    "        else:\n",
    "            n_prime = int((Decimal(2).sqrt()-1) * n)\n",
    "            return n*n_prime + n * (n + 1) / 2 - n_prime * (n_prime + 1) / 2 - recurse(n_prime)\n",
    "\n",
    "    return str(int(recurse(number)))"
   ]
  },
  {
   "cell_type": "markdown",
   "metadata": {},
   "source": [
    "# Final Solution"
   ]
  },
  {
   "cell_type": "code",
   "execution_count": 84,
   "metadata": {},
   "outputs": [],
   "source": [
    "'''\n",
    "Dodge the Lasers!\n",
    "=================\n",
    "\n",
    "Oh no! You've managed to escape Commander Lambda's collapsing space station in an escape pod with the rescued bunny workers - but Commander Lambda isnt about to let you get away that easily. Lambda sent an elite fighter pilot squadron after you -- and they've opened fire!\n",
    "\n",
    "Fortunately, you know something important about the ships trying to shoot you down. Back when you were still Lambda's assistant, the Commander asked you to help program the aiming mechanisms for the starfighters. They undergo rigorous testing procedures, but you were still able to slip in a subtle bug. The software works as a time step simulation: if it is tracking a target that is accelerating away at 45 degrees, the software will consider the targets acceleration to be equal to the square root of 2, adding the calculated result to the targets end velocity at each timestep. However, thanks to your bug, instead of storing the result with proper precision, it will be truncated to an integer before adding the new velocity to your current position.  This means that instead of having your correct position, the targeting software will erringly report your position as sum(i=1..n, floor(i*sqrt(2))) - not far enough off to fail Commander Lambdas testing, but enough that it might just save your life.\n",
    "\n",
    "If you can quickly calculate the target of the starfighters' laser beams to know how far off they'll be, you can trick them into shooting an asteroid, releasing dust, and concealing the rest of your escape.  Write a function solution(str_n) which, given the string representation of an integer n, returns the sum of (floor(1*sqrt(2)) + floor(2*sqrt(2)) + ... + floor(n*sqrt(2))) as a string. That is, for every number i in the range 1 to n, it adds up all of the integer portions of i*sqrt(2).\n",
    "\n",
    "For example, if str_n was \"5\", the solution would be calculated as\n",
    "floor(1*sqrt(2)) +\n",
    "floor(2*sqrt(2)) +\n",
    "floor(3*sqrt(2)) +\n",
    "floor(4*sqrt(2)) +\n",
    "floor(5*sqrt(2))\n",
    "= 1+2+4+5+7 = 19\n",
    "so the function would return \"19\".\n",
    "\n",
    "\n",
    "str_n will be a positive integer between 1 and 10^100, inclusive. Since n can be very large (up to 101 digits!), using just sqrt(2) and a loop won't work. Sometimes, it's easier to take a step back and concentrate not on what you have in front of you, but on what you don't.\n",
    "\n",
    "Languages\n",
    "=========\n",
    "\n",
    "To provide a Java solution, edit Solution.java\n",
    "To provide a Python solution, edit solution.py\n",
    "\n",
    "Test cases\n",
    "==========\n",
    "Your code should pass the following test cases.\n",
    "Note that it may also be run against hidden test cases not shown here.\n",
    "\n",
    "-- Java cases --\n",
    "Input:\n",
    "Solution.solution('77')\n",
    "Output:\n",
    "    4208\n",
    "\n",
    "Input:\n",
    "Solution.solution('5')\n",
    "Output:\n",
    "    19\n",
    "\n",
    "-- Python cases --\n",
    "Input:\n",
    "solution.solution('77')\n",
    "Output:\n",
    "    4208\n",
    "\n",
    "Input:\n",
    "solution.solution('5')\n",
    "Output:\n",
    "    19\n",
    "\n",
    "\n",
    "**Strategry**\n",
    "\n",
    "The sequence Brn = floor(n * r) where r is a rational number,\n",
    "in this case sqrt(2), is a Beatty sequence. \n",
    "Rayleigh's theorem states that a beatty sequence and its compliment\n",
    "partion the set of natural numbers. We will use this fact later.\n",
    "Let s be the compliment of r so: \n",
    "1/r + 1/s = 1\n",
    "s = r / (r-1)\n",
    "s = r * (r+1) / (r-1)(r+1)\n",
    "s = r^2 + r / r^2 - 1 \n",
    "s = 2  + sqrt(2) / 1        <--- when r = sqrt(2)\n",
    "s = 2  + sqrt(2)\n",
    "\n",
    "\n",
    "The sequence Brn and Bsn are:\n",
    "Brn = floor(n * r)\n",
    "Bsn = floor(n * s)\n",
    "n   Brn Bsn\n",
    "1   1   3\n",
    "2   2   6   <--- m\n",
    "3   4   10\n",
    "4   5   13\n",
    "5   7   17  <--- S(n = 5, r) = (1+2+4+5+7)\n",
    "6   8   20                   = 19\n",
    "...                          = S(n, 1) - S(m,s) where m is the last Bsn < Brn\n",
    "                             = n(n+1)/2 - S(floor(Brn/s),s)\n",
    "\n",
    "To represent Bsn in Terms of Brn:\n",
    "Bsn = floor(n*s) \n",
    "    = floor(n*(2+sqrt(2)))\n",
    "    = floor(n*sqrt(2) + 2n\n",
    "    = Brn + 2n\n",
    "Therefore:\n",
    "S(n, Bsn) = S(n, Brn + 2n)\n",
    "          = S(n, Brn) + 2 * n(n+1)/2\n",
    "          = S(n, Brn) + n(n+1)      <1>\n",
    "\n",
    "Since Brn and Bsn partion the set of natural numbers, we can say:\n",
    "\n",
    "Sum of Brn = Sum of all ints up to Brn - Sum of Bsm :\n",
    "S(n,Brn) = S(Brn, 1) - S(Bs smaller than Brn, Bsn) \n",
    "S(n,Brn) = Brn(Brn+1) / 2 - S(floor(Brn/s), Bsn)\n",
    "** floor(Brn/s) = index of Bsn containing last occurance of Bs < than Brn\n",
    "\n",
    "Using <1> with n = floor(Brn/s):\n",
    "S(n, Brn) = Brn(Brn+1)/2 - S(floor(Brn/s), Brn) - (floor(Brn/s) * (floor(Brn/s) + 1))\n",
    "\n",
    "We can recursively use this formula to get the solution.\n",
    "\n",
    "To deal with float point error, decimal library is used. \n",
    "\n",
    "'''\n",
    "from decimal import Decimal, getcontext\n",
    "\n",
    "def solution(str_n):\n",
    "    '''\n",
    "    Input: string representation of an integer i, where 0 < i < 10**100\n",
    "    Return: Sum of elements in the sequense Brn = floor(n * sqrt(2)) as string\n",
    "    '''\n",
    "\n",
    "    getcontext().prec = 101\n",
    "    \n",
    "    def recurse(n):\n",
    "        if n == 0:\n",
    "            return 0\n",
    "        else:\n",
    "            root_2 = Decimal(2).sqrt()\n",
    "            Brn = int(n * root_2)\n",
    "\n",
    "            #S(n, Brn) = Brn(Brn+1)/2 - S(floor(Brn/s), Brn) - (floor(Brn/s) * (floor(Brn/s) + 1))\n",
    "            m = int(Brn/(2 + root_2))   # m = floor(Brn/s)\n",
    "            return (Brn * (Brn+1))/2 - recurse(m) - (m * (m + 1))\n",
    "\n",
    "    return(str(recurse(Decimal(str_n))))        "
   ]
  },
  {
   "cell_type": "code",
   "execution_count": 85,
   "metadata": {},
   "outputs": [
    {
     "data": {
      "text/plain": [
       "'4208'"
      ]
     },
     "execution_count": 85,
     "metadata": {},
     "output_type": "execute_result"
    }
   ],
   "source": [
    "solution(77)"
   ]
  },
  {
   "cell_type": "code",
   "execution_count": null,
   "metadata": {},
   "outputs": [],
   "source": []
  }
 ],
 "metadata": {
  "interpreter": {
   "hash": "1ada6d3bf13ae8a31ddab0aa718146ea0e325ec2f9988395aa861eca735bcd31"
  },
  "kernelspec": {
   "display_name": "Python 3.8.12 ('py38')",
   "language": "python",
   "name": "python3"
  },
  "language_info": {
   "codemirror_mode": {
    "name": "ipython",
    "version": 2
   },
   "file_extension": ".py",
   "mimetype": "text/x-python",
   "name": "python",
   "nbconvert_exporter": "python",
   "pygments_lexer": "ipython2",
   "version": "2.7.18"
  },
  "orig_nbformat": 4
 },
 "nbformat": 4,
 "nbformat_minor": 2
}
