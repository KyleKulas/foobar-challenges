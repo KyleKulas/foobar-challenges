{
 "cells": [
  {
   "cell_type": "markdown",
   "id": "05dfb86a-8f2c-4262-a0fc-fcc6ade70b06",
   "metadata": {},
   "source": [
    "Queue To Do\n",
    "===========\n",
    "\n",
    "You're almost ready to make your move to destroy the LAMBCHOP doomsday device, but the security checkpoints that guard the underlying systems of the LAMBCHOP are going to be a problem. You were able to take one down without tripping any alarms, which is great! Except that as Commander Lambda's assistant, you've learned that the checkpoints are about to come under automated review, which means that your sabotage will be discovered and your cover blown -- unless you can trick the automated review system.\n",
    "\n",
    "To trick the system, you'll need to write a program to return the same security checksum that the bunny trainers would have after they would have checked all the workers through. Fortunately, Commander Lambda's desire for efficiency won't allow for hours-long lines, so the trainers at the checkpoint have found ways to quicken the pass-through rate. Instead of checking each and every worker coming through, the bunny trainers instead go over everyone in line while noting their worker IDs, then allow the line to fill back up. Once they've done that they go over the line again, this time leaving off the last worker. They continue doing this, leaving off one more worker from the line each time but recording the worker IDs of those they do check, until they skip the entire line, at which point they XOR the IDs of all the workers they noted into a checksum and then take off for lunch. Fortunately, the workers' orderly nature causes them to always line up in numerical order without any gaps.\n",
    "\n",
    "For example, if the first worker in line has ID 0 and the security checkpoint line holds three workers, the process would look like this:\n",
    "0 1 2 /\n",
    "3 4 / 5\n",
    "6 / 7 8\n",
    "where the trainers' XOR (^) checksum is 0^1^2^3^4^6 == 2.\n",
    "\n",
    "Likewise, if the first worker has ID 17 and the checkpoint holds four workers, the process would look like:\n",
    "17 18 19 20 /\n",
    "21 22 23 / 24\n",
    "25 26 / 27 28\n",
    "29 / 30 31 32\n",
    "which produces the checksum 17^18^19^20^21^22^23^25^26^29 == 14.\n",
    "\n",
    "All worker IDs (including the first worker) are between 0 and 2000000000 inclusive, and the checkpoint line will always be at least 1 worker long.\n",
    "\n",
    "With this information, write a function solution(start, length) that will cover for the missing security checkpoint by outputting the same checksum the trainers would normally submit before lunch. You have just enough time to find out the ID of the first worker to be checked (start) and the length of the line (length) before the automatic review occurs, so your program must generate the proper checksum with just those two values.\n",
    "\n",
    "Languages\n",
    "=========\n",
    "\n",
    "To provide a Java solution, edit Solution.java\n",
    "To provide a Python solution, edit solution.py\n",
    "\n",
    "Test cases\n",
    "==========\n",
    "Your code should pass the following test cases.\n",
    "Note that it may also be run against hidden test cases not shown here.\n",
    "\n",
    "-- Python cases --\n",
    "Input:\n",
    "solution.solution(0, 3)  \n",
    "Output:\n",
    "    2\n",
    "\n",
    "Input:\n",
    "solution.solution(17, 4)  \n",
    "Output:\n",
    "    14"
   ]
  },
  {
   "cell_type": "markdown",
   "id": "5cca083f",
   "metadata": {},
   "source": [
    "# First attempt"
   ]
  },
  {
   "cell_type": "code",
   "execution_count": 86,
   "id": "768a66b3-d168-4d7d-b75c-97411fdf8d25",
   "metadata": {},
   "outputs": [],
   "source": [
    "def solution(start, length):\n",
    "    \"\"\"\n",
    "    Input: employ start ID, length of the security queue\n",
    "    Return: the XOR checksum of the employee that are counted. each time the queue is filled, 1 less employ id is checked until the entire line is skipped. \n",
    "    \"\"\"\n",
    "    start_length = length\n",
    "\n",
    "    def recurse(start, length):\n",
    "        if length == 1:\n",
    "            return start\n",
    "        else:\n",
    "            checksum = 0\n",
    "            for emp_id in range(start, start + length):\n",
    "                checksum = emp_id ^ checksum\n",
    "\n",
    "            return checksum ^ recurse(start + start_length, length - 1)\n",
    "        \n",
    "    \n",
    "    return recurse(start, length)"
   ]
  },
  {
   "cell_type": "code",
   "execution_count": 88,
   "id": "84a513ab-49ce-4e66-b88d-bd64b6188cc4",
   "metadata": {},
   "outputs": [
    {
     "data": {
      "text/plain": [
       "2"
      ]
     },
     "execution_count": 88,
     "metadata": {},
     "output_type": "execute_result"
    }
   ],
   "source": [
    "solution(0, 3)"
   ]
  },
  {
   "cell_type": "code",
   "execution_count": 39,
   "id": "4a004724-0365-4422-ab75-208e55c91349",
   "metadata": {},
   "outputs": [
    {
     "data": {
      "text/plain": [
       "6"
      ]
     },
     "execution_count": 39,
     "metadata": {},
     "output_type": "execute_result"
    }
   ],
   "source": [
    "solution(1,3)"
   ]
  },
  {
   "cell_type": "markdown",
   "id": "68b5db39",
   "metadata": {},
   "source": [
    "# Looking for pattern in xor checksum"
   ]
  },
  {
   "cell_type": "code",
   "execution_count": 1,
   "id": "6506ee1b-0c53-4c78-b19b-21f66e40970c",
   "metadata": {},
   "outputs": [
    {
     "name": "stdout",
     "output_type": "stream",
     "text": [
      "(0, 0)\n",
      "(1, 1)\n",
      "(2, 3)\n",
      "(3, 0)\n",
      "(4, 4)\n",
      "(5, 1)\n",
      "(6, 7)\n",
      "(7, 0)\n",
      "(8, 8)\n",
      "(9, 1)\n",
      "(10, 11)\n",
      "(11, 0)\n",
      "(12, 12)\n",
      "(13, 1)\n",
      "(14, 15)\n",
      "()\n"
     ]
    }
   ],
   "source": [
    "checksum = 0\n",
    "for x in range(0,15):\n",
    "    checksum ^= x\n",
    "    print(x, checksum)\n",
    "print()\n",
    "checksum = 0"
   ]
  },
  {
   "cell_type": "markdown",
   "id": "334c0623",
   "metadata": {},
   "source": [
    "# Exploring properties of checksum\n",
    "Check sum of a range(x,y) = checksum range(0,x) ^ checksum range(0,y)"
   ]
  },
  {
   "cell_type": "code",
   "execution_count": 7,
   "id": "6ac8f180",
   "metadata": {},
   "outputs": [
    {
     "name": "stdout",
     "output_type": "stream",
     "text": [
      "24\n",
      "()\n",
      "15\n",
      "()\n",
      "23\n"
     ]
    }
   ],
   "source": [
    "checksum = 0\n",
    "for x in range(15,23):\n",
    "    checksum ^= x\n",
    "    # print(x, checksum)\n",
    "print(checksum)\n",
    "print()\n",
    "checksum = 0\n",
    "for x in range(0,15):\n",
    "    checksum ^= x\n",
    "    # print(x, checksum)\n",
    "print(checksum)\n",
    "print()\n",
    "checksum = 0\n",
    "for x in range(0,23):\n",
    "    checksum ^= x\n",
    "    # print(x, checksum)\n",
    "print(checksum)"
   ]
  },
  {
   "cell_type": "code",
   "execution_count": 8,
   "id": "da9b3470",
   "metadata": {},
   "outputs": [
    {
     "data": {
      "text/plain": [
       "24"
      ]
     },
     "execution_count": 8,
     "metadata": {},
     "output_type": "execute_result"
    }
   ],
   "source": [
    "15^23"
   ]
  },
  {
   "cell_type": "markdown",
   "id": "8104a4e3",
   "metadata": {},
   "source": [
    "# Final Solution"
   ]
  },
  {
   "cell_type": "code",
   "execution_count": 47,
   "id": "442bf496-d56c-4c99-b2f0-dc5eaf8f604a",
   "metadata": {},
   "outputs": [],
   "source": [
    "def solution(start, length):\n",
    "    \"\"\"\n",
    "    Input: employ start ID, length of the security queue\n",
    "    Return: the XOR checksum of the employee that are counted. each time the queue is filled, 1 less employ id is checked until the entire line is skipped. \n",
    "    \"\"\"\n",
    "    # XOR checksum of consecutive numbers from 0 to x follows the pattern [x, 1, x + 1, 0]\n",
    "    def checksum_range_zero_to(num):\n",
    "        if num % 4 == 0:\n",
    "            return num\n",
    "        elif num % 4 == 1:\n",
    "            return 1\n",
    "        elif num % 4 == 2:\n",
    "            return num + 1\n",
    "        elif num % 4 == 3:\n",
    "            return 0\n",
    "\n",
    "    # XOR checksum of a consecutive range is the checksum of the range 0 to the first number checksummed with the range 0 to last number\n",
    "    def checksum_range(first_number, last_number):\n",
    "        if first_number == last_number:\n",
    "            return first_number\n",
    "        return checksum_range_zero_to(last_number) ^ checksum_range_zero_to(first_number - 1)\n",
    "\n",
    "    # loop through each filled queue. calculate checksum for each row. checksum all rows together to get final solution\n",
    "    checksum = 0\n",
    "    for row in range(0, length):\n",
    "        first_number = start + (row * length)\n",
    "        last_number = first_number + (length - row - 1)\n",
    "\n",
    "        checksum ^= checksum_range(first_number, last_number)\n",
    "\n",
    "    return checksum"
   ]
  },
  {
   "cell_type": "code",
   "execution_count": 48,
   "id": "6a04c8bd-1d52-4860-a793-d42aa873ab03",
   "metadata": {},
   "outputs": [
    {
     "data": {
      "text/plain": [
       "2"
      ]
     },
     "execution_count": 48,
     "metadata": {},
     "output_type": "execute_result"
    }
   ],
   "source": [
    "solution(0, 3)"
   ]
  }
 ],
 "metadata": {
  "interpreter": {
   "hash": "00dbf6190ae443614f0ba75cd80d50fcc66744afc5db8535f91490f5d7e57fbe"
  },
  "kernelspec": {
   "display_name": "py27",
   "language": "python",
   "name": "python3"
  },
  "language_info": {
   "codemirror_mode": {
    "name": "ipython",
    "version": 2
   },
   "file_extension": ".py",
   "mimetype": "text/x-python",
   "name": "python",
   "nbconvert_exporter": "python",
   "pygments_lexer": "ipython2",
   "version": "2.7.18"
  }
 },
 "nbformat": 4,
 "nbformat_minor": 5
}
